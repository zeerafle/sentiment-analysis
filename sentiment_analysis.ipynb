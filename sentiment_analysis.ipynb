{
  "nbformat": 4,
  "nbformat_minor": 0,
  "metadata": {
    "colab": {
      "provenance": [],
      "authorship_tag": "ABX9TyNHHEW9gJZwS1kH7SRms7nR",
      "include_colab_link": true
    },
    "kernelspec": {
      "name": "python3",
      "display_name": "Python 3"
    },
    "language_info": {
      "name": "python"
    },
    "accelerator": "GPU"
  },
  "cells": [
    {
      "cell_type": "markdown",
      "metadata": {
        "id": "view-in-github",
        "colab_type": "text"
      },
      "source": [
        "<a href=\"https://colab.research.google.com/github/zeerafle/sentiment-analysis/blob/main/sentiment_analysis.ipynb\" target=\"_parent\"><img src=\"https://colab.research.google.com/assets/colab-badge.svg\" alt=\"Open In Colab\"/></a>"
      ]
    },
    {
      "cell_type": "markdown",
      "source": [
        "# US Airline Sentiment Analysis"
      ],
      "metadata": {
        "id": "QfT1pFnYAhe0"
      }
    },
    {
      "cell_type": "markdown",
      "source": [
        "## Setup"
      ],
      "metadata": {
        "id": "8FjpwOMQAozx"
      }
    },
    {
      "cell_type": "code",
      "source": [
        "import sys  \n",
        "!{sys.executable} -m pip install contractions"
      ],
      "metadata": {
        "colab": {
          "base_uri": "https://localhost:8080/"
        },
        "id": "L-e2dkSfJLWO",
        "outputId": "43cf8e96-f4b3-4b44-d606-d783b13df19c"
      },
      "execution_count": 1,
      "outputs": [
        {
          "output_type": "stream",
          "name": "stdout",
          "text": [
            "Looking in indexes: https://pypi.org/simple, https://us-python.pkg.dev/colab-wheels/public/simple/\n",
            "Collecting contractions\n",
            "  Downloading contractions-0.1.72-py2.py3-none-any.whl (8.3 kB)\n",
            "Collecting textsearch>=0.0.21\n",
            "  Downloading textsearch-0.0.24-py2.py3-none-any.whl (7.6 kB)\n",
            "Collecting pyahocorasick\n",
            "  Downloading pyahocorasick-1.4.4-cp37-cp37m-manylinux_2_17_x86_64.manylinux2014_x86_64.whl (106 kB)\n",
            "\u001b[K     |████████████████████████████████| 106 kB 41.5 MB/s \n",
            "\u001b[?25hCollecting anyascii\n",
            "  Downloading anyascii-0.3.1-py3-none-any.whl (287 kB)\n",
            "\u001b[K     |████████████████████████████████| 287 kB 65.6 MB/s \n",
            "\u001b[?25hInstalling collected packages: pyahocorasick, anyascii, textsearch, contractions\n",
            "Successfully installed anyascii-0.3.1 contractions-0.1.72 pyahocorasick-1.4.4 textsearch-0.0.24\n"
          ]
        }
      ]
    },
    {
      "cell_type": "code",
      "source": [
        "import nltk\n",
        "nltk.download('stopwords')\n",
        "from nltk.corpus import stopwords\n",
        "stop_words = stopwords.words('english')"
      ],
      "metadata": {
        "colab": {
          "base_uri": "https://localhost:8080/"
        },
        "id": "22LFSpkSJf-I",
        "outputId": "ef862776-3af0-4b15-c795-73a20fc01791"
      },
      "execution_count": 2,
      "outputs": [
        {
          "output_type": "stream",
          "name": "stderr",
          "text": [
            "[nltk_data] Downloading package stopwords to /root/nltk_data...\n",
            "[nltk_data]   Unzipping corpora/stopwords.zip.\n"
          ]
        }
      ]
    },
    {
      "cell_type": "code",
      "source": [
        "import tensorflow as tf\n",
        "from keras.preprocessing.text import Tokenizer\n",
        "from keras.preprocessing.sequence import pad_sequences\n",
        "from keras.models import Sequential\n",
        "from keras.layers import LSTM, Dense, Embedding\n",
        "\n",
        "import os\n",
        "import tempfile\n",
        "\n",
        "import matplotlib as mpl\n",
        "import matplotlib.pyplot as plt\n",
        "import numpy as np\n",
        "import pandas as pd\n",
        "\n",
        "import re\n",
        "import contractions\n",
        "\n",
        "import sklearn\n",
        "from sklearn.metrics import confusion_matrix\n",
        "from sklearn.model_selection import train_test_split"
      ],
      "metadata": {
        "id": "nGgULzRNAg70"
      },
      "execution_count": 3,
      "outputs": []
    },
    {
      "cell_type": "code",
      "execution_count": 4,
      "metadata": {
        "id": "RGafN1vJAVHR"
      },
      "outputs": [],
      "source": [
        "mpl.rcParams['figure.figsize'] = (12, 10)\n",
        "colors = plt.rcParams['axes.prop_cycle'].by_key()['color']"
      ]
    },
    {
      "cell_type": "markdown",
      "source": [
        "## Data Preprocessing and Exploration\n",
        "\n",
        "Ambil dataset [Kaggle US Airline Sentiment Analysis](https://www.kaggle.com/datasets/crowdflower/twitter-airline-sentiment)"
      ],
      "metadata": {
        "id": "WK8MnEUAAwnT"
      }
    },
    {
      "cell_type": "code",
      "source": [
        "from google.colab import drive\n",
        "drive.mount('/content/drive')"
      ],
      "metadata": {
        "colab": {
          "base_uri": "https://localhost:8080/"
        },
        "id": "S5qsUWAXBADD",
        "outputId": "a55de07f-168a-4794-c7e7-ffc9d1374e73"
      },
      "execution_count": 5,
      "outputs": [
        {
          "output_type": "stream",
          "name": "stdout",
          "text": [
            "Mounted at /content/drive\n"
          ]
        }
      ]
    },
    {
      "cell_type": "code",
      "source": [
        "%%bash\n",
        "pip install kaggle\n",
        "mkdir ~/.kaggle\n",
        "cp /content/drive/MyDrive/kaggle.json ~/.kaggle/kaggle.json\n",
        "chmod 600 ~/.kaggle/kaggle.json\n",
        "kaggle datasets download -d crowdflower/twitter-airline-sentiment"
      ],
      "metadata": {
        "colab": {
          "base_uri": "https://localhost:8080/"
        },
        "id": "WSKZb7orBC6K",
        "outputId": "7b52ffba-02f8-440f-9873-2f28b2e52103"
      },
      "execution_count": 6,
      "outputs": [
        {
          "output_type": "stream",
          "name": "stdout",
          "text": [
            "Looking in indexes: https://pypi.org/simple, https://us-python.pkg.dev/colab-wheels/public/simple/\n",
            "Requirement already satisfied: kaggle in /usr/local/lib/python3.7/dist-packages (1.5.12)\n",
            "Requirement already satisfied: python-slugify in /usr/local/lib/python3.7/dist-packages (from kaggle) (6.1.2)\n",
            "Requirement already satisfied: certifi in /usr/local/lib/python3.7/dist-packages (from kaggle) (2022.6.15)\n",
            "Requirement already satisfied: six>=1.10 in /usr/local/lib/python3.7/dist-packages (from kaggle) (1.15.0)\n",
            "Requirement already satisfied: python-dateutil in /usr/local/lib/python3.7/dist-packages (from kaggle) (2.8.2)\n",
            "Requirement already satisfied: urllib3 in /usr/local/lib/python3.7/dist-packages (from kaggle) (1.24.3)\n",
            "Requirement already satisfied: tqdm in /usr/local/lib/python3.7/dist-packages (from kaggle) (4.64.1)\n",
            "Requirement already satisfied: requests in /usr/local/lib/python3.7/dist-packages (from kaggle) (2.23.0)\n",
            "Requirement already satisfied: text-unidecode>=1.3 in /usr/local/lib/python3.7/dist-packages (from python-slugify->kaggle) (1.3)\n",
            "Requirement already satisfied: chardet<4,>=3.0.2 in /usr/local/lib/python3.7/dist-packages (from requests->kaggle) (3.0.4)\n",
            "Requirement already satisfied: idna<3,>=2.5 in /usr/local/lib/python3.7/dist-packages (from requests->kaggle) (2.10)\n",
            "Downloading twitter-airline-sentiment.zip to /content\n",
            "\n"
          ]
        },
        {
          "output_type": "stream",
          "name": "stderr",
          "text": [
            "\r  0%|          | 0.00/2.55M [00:00<?, ?B/s]\r100%|██████████| 2.55M/2.55M [00:00<00:00, 228MB/s]\n"
          ]
        }
      ]
    },
    {
      "cell_type": "code",
      "source": [
        "%%bash\n",
        "mkdir dataset\n",
        "unzip twitter-airline-sentiment.zip -d dataset"
      ],
      "metadata": {
        "colab": {
          "base_uri": "https://localhost:8080/"
        },
        "id": "9pJrfY05BUfZ",
        "outputId": "fe164914-aae5-4f62-f25f-6a69836f08e7"
      },
      "execution_count": 7,
      "outputs": [
        {
          "output_type": "stream",
          "name": "stdout",
          "text": [
            "Archive:  twitter-airline-sentiment.zip\n",
            "  inflating: dataset/Tweets.csv      \n",
            "  inflating: dataset/database.sqlite  \n"
          ]
        }
      ]
    },
    {
      "cell_type": "code",
      "source": [
        "raw_df = pd.read_csv('dataset/Tweets.csv')\n",
        "raw_df.head()"
      ],
      "metadata": {
        "colab": {
          "base_uri": "https://localhost:8080/",
          "height": 496
        },
        "id": "0eF-dlV7BWnH",
        "outputId": "3ea3bb82-adeb-402b-9b2f-ac9a28e5f63a"
      },
      "execution_count": 8,
      "outputs": [
        {
          "output_type": "execute_result",
          "data": {
            "text/plain": [
              "             tweet_id airline_sentiment  airline_sentiment_confidence  \\\n",
              "0  570306133677760513           neutral                        1.0000   \n",
              "1  570301130888122368          positive                        0.3486   \n",
              "2  570301083672813571           neutral                        0.6837   \n",
              "3  570301031407624196          negative                        1.0000   \n",
              "4  570300817074462722          negative                        1.0000   \n",
              "\n",
              "  negativereason  negativereason_confidence         airline  \\\n",
              "0            NaN                        NaN  Virgin America   \n",
              "1            NaN                     0.0000  Virgin America   \n",
              "2            NaN                        NaN  Virgin America   \n",
              "3     Bad Flight                     0.7033  Virgin America   \n",
              "4     Can't Tell                     1.0000  Virgin America   \n",
              "\n",
              "  airline_sentiment_gold        name negativereason_gold  retweet_count  \\\n",
              "0                    NaN     cairdin                 NaN              0   \n",
              "1                    NaN    jnardino                 NaN              0   \n",
              "2                    NaN  yvonnalynn                 NaN              0   \n",
              "3                    NaN    jnardino                 NaN              0   \n",
              "4                    NaN    jnardino                 NaN              0   \n",
              "\n",
              "                                                text tweet_coord  \\\n",
              "0                @VirginAmerica What @dhepburn said.         NaN   \n",
              "1  @VirginAmerica plus you've added commercials t...         NaN   \n",
              "2  @VirginAmerica I didn't today... Must mean I n...         NaN   \n",
              "3  @VirginAmerica it's really aggressive to blast...         NaN   \n",
              "4  @VirginAmerica and it's a really big bad thing...         NaN   \n",
              "\n",
              "               tweet_created tweet_location               user_timezone  \n",
              "0  2015-02-24 11:35:52 -0800            NaN  Eastern Time (US & Canada)  \n",
              "1  2015-02-24 11:15:59 -0800            NaN  Pacific Time (US & Canada)  \n",
              "2  2015-02-24 11:15:48 -0800      Lets Play  Central Time (US & Canada)  \n",
              "3  2015-02-24 11:15:36 -0800            NaN  Pacific Time (US & Canada)  \n",
              "4  2015-02-24 11:14:45 -0800            NaN  Pacific Time (US & Canada)  "
            ],
            "text/html": [
              "\n",
              "  <div id=\"df-b23bb51b-4168-4e32-8353-c6ff6e5560dd\">\n",
              "    <div class=\"colab-df-container\">\n",
              "      <div>\n",
              "<style scoped>\n",
              "    .dataframe tbody tr th:only-of-type {\n",
              "        vertical-align: middle;\n",
              "    }\n",
              "\n",
              "    .dataframe tbody tr th {\n",
              "        vertical-align: top;\n",
              "    }\n",
              "\n",
              "    .dataframe thead th {\n",
              "        text-align: right;\n",
              "    }\n",
              "</style>\n",
              "<table border=\"1\" class=\"dataframe\">\n",
              "  <thead>\n",
              "    <tr style=\"text-align: right;\">\n",
              "      <th></th>\n",
              "      <th>tweet_id</th>\n",
              "      <th>airline_sentiment</th>\n",
              "      <th>airline_sentiment_confidence</th>\n",
              "      <th>negativereason</th>\n",
              "      <th>negativereason_confidence</th>\n",
              "      <th>airline</th>\n",
              "      <th>airline_sentiment_gold</th>\n",
              "      <th>name</th>\n",
              "      <th>negativereason_gold</th>\n",
              "      <th>retweet_count</th>\n",
              "      <th>text</th>\n",
              "      <th>tweet_coord</th>\n",
              "      <th>tweet_created</th>\n",
              "      <th>tweet_location</th>\n",
              "      <th>user_timezone</th>\n",
              "    </tr>\n",
              "  </thead>\n",
              "  <tbody>\n",
              "    <tr>\n",
              "      <th>0</th>\n",
              "      <td>570306133677760513</td>\n",
              "      <td>neutral</td>\n",
              "      <td>1.0000</td>\n",
              "      <td>NaN</td>\n",
              "      <td>NaN</td>\n",
              "      <td>Virgin America</td>\n",
              "      <td>NaN</td>\n",
              "      <td>cairdin</td>\n",
              "      <td>NaN</td>\n",
              "      <td>0</td>\n",
              "      <td>@VirginAmerica What @dhepburn said.</td>\n",
              "      <td>NaN</td>\n",
              "      <td>2015-02-24 11:35:52 -0800</td>\n",
              "      <td>NaN</td>\n",
              "      <td>Eastern Time (US &amp; Canada)</td>\n",
              "    </tr>\n",
              "    <tr>\n",
              "      <th>1</th>\n",
              "      <td>570301130888122368</td>\n",
              "      <td>positive</td>\n",
              "      <td>0.3486</td>\n",
              "      <td>NaN</td>\n",
              "      <td>0.0000</td>\n",
              "      <td>Virgin America</td>\n",
              "      <td>NaN</td>\n",
              "      <td>jnardino</td>\n",
              "      <td>NaN</td>\n",
              "      <td>0</td>\n",
              "      <td>@VirginAmerica plus you've added commercials t...</td>\n",
              "      <td>NaN</td>\n",
              "      <td>2015-02-24 11:15:59 -0800</td>\n",
              "      <td>NaN</td>\n",
              "      <td>Pacific Time (US &amp; Canada)</td>\n",
              "    </tr>\n",
              "    <tr>\n",
              "      <th>2</th>\n",
              "      <td>570301083672813571</td>\n",
              "      <td>neutral</td>\n",
              "      <td>0.6837</td>\n",
              "      <td>NaN</td>\n",
              "      <td>NaN</td>\n",
              "      <td>Virgin America</td>\n",
              "      <td>NaN</td>\n",
              "      <td>yvonnalynn</td>\n",
              "      <td>NaN</td>\n",
              "      <td>0</td>\n",
              "      <td>@VirginAmerica I didn't today... Must mean I n...</td>\n",
              "      <td>NaN</td>\n",
              "      <td>2015-02-24 11:15:48 -0800</td>\n",
              "      <td>Lets Play</td>\n",
              "      <td>Central Time (US &amp; Canada)</td>\n",
              "    </tr>\n",
              "    <tr>\n",
              "      <th>3</th>\n",
              "      <td>570301031407624196</td>\n",
              "      <td>negative</td>\n",
              "      <td>1.0000</td>\n",
              "      <td>Bad Flight</td>\n",
              "      <td>0.7033</td>\n",
              "      <td>Virgin America</td>\n",
              "      <td>NaN</td>\n",
              "      <td>jnardino</td>\n",
              "      <td>NaN</td>\n",
              "      <td>0</td>\n",
              "      <td>@VirginAmerica it's really aggressive to blast...</td>\n",
              "      <td>NaN</td>\n",
              "      <td>2015-02-24 11:15:36 -0800</td>\n",
              "      <td>NaN</td>\n",
              "      <td>Pacific Time (US &amp; Canada)</td>\n",
              "    </tr>\n",
              "    <tr>\n",
              "      <th>4</th>\n",
              "      <td>570300817074462722</td>\n",
              "      <td>negative</td>\n",
              "      <td>1.0000</td>\n",
              "      <td>Can't Tell</td>\n",
              "      <td>1.0000</td>\n",
              "      <td>Virgin America</td>\n",
              "      <td>NaN</td>\n",
              "      <td>jnardino</td>\n",
              "      <td>NaN</td>\n",
              "      <td>0</td>\n",
              "      <td>@VirginAmerica and it's a really big bad thing...</td>\n",
              "      <td>NaN</td>\n",
              "      <td>2015-02-24 11:14:45 -0800</td>\n",
              "      <td>NaN</td>\n",
              "      <td>Pacific Time (US &amp; Canada)</td>\n",
              "    </tr>\n",
              "  </tbody>\n",
              "</table>\n",
              "</div>\n",
              "      <button class=\"colab-df-convert\" onclick=\"convertToInteractive('df-b23bb51b-4168-4e32-8353-c6ff6e5560dd')\"\n",
              "              title=\"Convert this dataframe to an interactive table.\"\n",
              "              style=\"display:none;\">\n",
              "        \n",
              "  <svg xmlns=\"http://www.w3.org/2000/svg\" height=\"24px\"viewBox=\"0 0 24 24\"\n",
              "       width=\"24px\">\n",
              "    <path d=\"M0 0h24v24H0V0z\" fill=\"none\"/>\n",
              "    <path d=\"M18.56 5.44l.94 2.06.94-2.06 2.06-.94-2.06-.94-.94-2.06-.94 2.06-2.06.94zm-11 1L8.5 8.5l.94-2.06 2.06-.94-2.06-.94L8.5 2.5l-.94 2.06-2.06.94zm10 10l.94 2.06.94-2.06 2.06-.94-2.06-.94-.94-2.06-.94 2.06-2.06.94z\"/><path d=\"M17.41 7.96l-1.37-1.37c-.4-.4-.92-.59-1.43-.59-.52 0-1.04.2-1.43.59L10.3 9.45l-7.72 7.72c-.78.78-.78 2.05 0 2.83L4 21.41c.39.39.9.59 1.41.59.51 0 1.02-.2 1.41-.59l7.78-7.78 2.81-2.81c.8-.78.8-2.07 0-2.86zM5.41 20L4 18.59l7.72-7.72 1.47 1.35L5.41 20z\"/>\n",
              "  </svg>\n",
              "      </button>\n",
              "      \n",
              "  <style>\n",
              "    .colab-df-container {\n",
              "      display:flex;\n",
              "      flex-wrap:wrap;\n",
              "      gap: 12px;\n",
              "    }\n",
              "\n",
              "    .colab-df-convert {\n",
              "      background-color: #E8F0FE;\n",
              "      border: none;\n",
              "      border-radius: 50%;\n",
              "      cursor: pointer;\n",
              "      display: none;\n",
              "      fill: #1967D2;\n",
              "      height: 32px;\n",
              "      padding: 0 0 0 0;\n",
              "      width: 32px;\n",
              "    }\n",
              "\n",
              "    .colab-df-convert:hover {\n",
              "      background-color: #E2EBFA;\n",
              "      box-shadow: 0px 1px 2px rgba(60, 64, 67, 0.3), 0px 1px 3px 1px rgba(60, 64, 67, 0.15);\n",
              "      fill: #174EA6;\n",
              "    }\n",
              "\n",
              "    [theme=dark] .colab-df-convert {\n",
              "      background-color: #3B4455;\n",
              "      fill: #D2E3FC;\n",
              "    }\n",
              "\n",
              "    [theme=dark] .colab-df-convert:hover {\n",
              "      background-color: #434B5C;\n",
              "      box-shadow: 0px 1px 3px 1px rgba(0, 0, 0, 0.15);\n",
              "      filter: drop-shadow(0px 1px 2px rgba(0, 0, 0, 0.3));\n",
              "      fill: #FFFFFF;\n",
              "    }\n",
              "  </style>\n",
              "\n",
              "      <script>\n",
              "        const buttonEl =\n",
              "          document.querySelector('#df-b23bb51b-4168-4e32-8353-c6ff6e5560dd button.colab-df-convert');\n",
              "        buttonEl.style.display =\n",
              "          google.colab.kernel.accessAllowed ? 'block' : 'none';\n",
              "\n",
              "        async function convertToInteractive(key) {\n",
              "          const element = document.querySelector('#df-b23bb51b-4168-4e32-8353-c6ff6e5560dd');\n",
              "          const dataTable =\n",
              "            await google.colab.kernel.invokeFunction('convertToInteractive',\n",
              "                                                     [key], {});\n",
              "          if (!dataTable) return;\n",
              "\n",
              "          const docLinkHtml = 'Like what you see? Visit the ' +\n",
              "            '<a target=\"_blank\" href=https://colab.research.google.com/notebooks/data_table.ipynb>data table notebook</a>'\n",
              "            + ' to learn more about interactive tables.';\n",
              "          element.innerHTML = '';\n",
              "          dataTable['output_type'] = 'display_data';\n",
              "          await google.colab.output.renderOutput(dataTable, element);\n",
              "          const docLink = document.createElement('div');\n",
              "          docLink.innerHTML = docLinkHtml;\n",
              "          element.appendChild(docLink);\n",
              "        }\n",
              "      </script>\n",
              "    </div>\n",
              "  </div>\n",
              "  "
            ]
          },
          "metadata": {},
          "execution_count": 8
        }
      ]
    },
    {
      "cell_type": "code",
      "source": [
        "raw_df.airline_sentiment.value_counts()"
      ],
      "metadata": {
        "colab": {
          "base_uri": "https://localhost:8080/"
        },
        "id": "460yW5d8F8xF",
        "outputId": "d025831d-aa8b-4081-ca75-27b329f9db85"
      },
      "execution_count": 9,
      "outputs": [
        {
          "output_type": "execute_result",
          "data": {
            "text/plain": [
              "negative    9178\n",
              "neutral     3099\n",
              "positive    2363\n",
              "Name: airline_sentiment, dtype: int64"
            ]
          },
          "metadata": {},
          "execution_count": 9
        }
      ]
    },
    {
      "cell_type": "markdown",
      "source": [
        "### Bersihkan Text\n",
        "\n",
        "Proses pembersihan teks meliputi:\n",
        "- Jadikan huruf kecil semua\n",
        "- Hilangkan mention\n",
        "- Hilangkan link url\n",
        "- Hilangkan hashtag\n",
        "- Hilangkan tag html\n",
        "- Ganti kata yang disingkat (misal: i've --> i have)\n",
        "- Hilangkan angka\n",
        "- Ganti `?` jadi \"questionmark\"\n",
        "- Ganti `!` jadi \"exclamationmark\"\n",
        "- Hilangkan semua kecuali kata dan spasi\n",
        "- Hilangkan spasi berlebih"
      ],
      "metadata": {
        "id": "lM_4WbuiCiwi"
      }
    },
    {
      "cell_type": "code",
      "source": [
        "df = raw_df[['text', 'airline_sentiment']]"
      ],
      "metadata": {
        "id": "BBFtnCl_CYFo"
      },
      "execution_count": 10,
      "outputs": []
    },
    {
      "cell_type": "code",
      "source": [
        "# jadikan huruf kecil dan hilangkan mention\n",
        "X_clean = df['text'].apply(lambda x: re.sub(\"\\\\@.*? |\\\\@.*?[!'#S%&'()*+,-./:;<=>?@[/]^_{|}~]|\\\\@.*\", \" \", x.lower()))\n",
        "# hilangkan link url\n",
        "X_clean = X_clean.apply(lambda x: re.sub(\"http.*? |http.*?[!'#S%&'()*+,-./:;<=>?@[/]^_{|}~]|http.*\", \" \", x))\n",
        "# hilangkan hashtag\n",
        "X_clean = X_clean.apply(lambda x: re.sub(\"#.*? |#.*?[!'#S%&'()*+,-./:;<=>?@[/]^_{|}~]|#.*\", \" \", x))\n",
        "# hilangkan html tag\n",
        "X_clean = X_clean.apply(lambda x: re.sub(\"<.*?>\", \" \", x))\n",
        "# ganti kata yang disingkat\n",
        "X_clean = X_clean.apply(lambda x: contractions.fix(x))\n",
        "# hilangkan angka\n",
        "X_clean = X_clean.apply(lambda x: re.sub(\"[0-9]\", \" \", x))\n",
        "# Ganti ? jadi \"questionmark\"\n",
        "X_clean = X_clean.apply(lambda x: re.sub(\"[?]\", \" questionmark\", x))\n",
        "# Ganti ! jadi \"exclamationmark\"\n",
        "X_clean = X_clean.apply(lambda x:  re.sub(\"[!]\", \" exclamationmark\", x))\n",
        "# Hilangkan semua kecuali kata dan spasi\n",
        "X_clean = X_clean.apply(lambda x: re.sub(\"'s\", \" \", x))\n",
        "X_clean = X_clean.apply(lambda x: re.sub(\"[^\\w\\s]\", \" \", x))\n",
        "# Hilangkan spasi berlebih\n",
        "X_clean = X_clean.apply(lambda x: re.sub(\" +\", \" \", x.strip()))\n",
        "\n",
        "X_clean"
      ],
      "metadata": {
        "colab": {
          "base_uri": "https://localhost:8080/"
        },
        "id": "fhfsZhNWGYQB",
        "outputId": "392764c0-43f8-4884-c9fa-765c9d5eed6b"
      },
      "execution_count": 11,
      "outputs": [
        {
          "output_type": "execute_result",
          "data": {
            "text/plain": [
              "0                                                what said\n",
              "1        plus you have added commercials to the experie...\n",
              "2        i did not today must mean i need to take anoth...\n",
              "3        it is really aggressive to blast obnoxious ent...\n",
              "4                and it is a really big bad thing about it\n",
              "                               ...                        \n",
              "14635    thank you we got on a different flight to chicago\n",
              "14636    leaving over minutes late flight no warnings o...\n",
              "14637                    please bring american airlines to\n",
              "14638    you have my money you change my flight and do ...\n",
              "14639    we have people so we need know how many seats ...\n",
              "Name: text, Length: 14640, dtype: object"
            ]
          },
          "metadata": {},
          "execution_count": 11
        }
      ]
    },
    {
      "cell_type": "code",
      "source": [
        "df['text'] = X_clean"
      ],
      "metadata": {
        "colab": {
          "base_uri": "https://localhost:8080/"
        },
        "id": "FiDQ2HgrMmjI",
        "outputId": "80450757-f193-4cc9-89ae-00a6b1749b59"
      },
      "execution_count": 12,
      "outputs": [
        {
          "output_type": "stream",
          "name": "stderr",
          "text": [
            "/usr/local/lib/python3.7/dist-packages/ipykernel_launcher.py:1: SettingWithCopyWarning: \n",
            "A value is trying to be set on a copy of a slice from a DataFrame.\n",
            "Try using .loc[row_indexer,col_indexer] = value instead\n",
            "\n",
            "See the caveats in the documentation: https://pandas.pydata.org/pandas-docs/stable/user_guide/indexing.html#returning-a-view-versus-a-copy\n",
            "  \"\"\"Entry point for launching an IPython kernel.\n"
          ]
        }
      ]
    },
    {
      "cell_type": "markdown",
      "source": [
        "### Jumlah kata\n",
        "\n",
        "Kita perlu cek jumlah tiap kata dalam satu kalimat. Ada text yang cuma berisi 1 atau 2 kata setelah dibersihkan jadi tidak bisa memberikan banyak informasi"
      ],
      "metadata": {
        "id": "Wyw_P01mL6-n"
      }
    },
    {
      "cell_type": "code",
      "source": [
        "word_count = df['text'].apply(lambda x: len(x.split(\" \")))\n",
        "word_count.describe()"
      ],
      "metadata": {
        "colab": {
          "base_uri": "https://localhost:8080/"
        },
        "id": "DDwGSXvKMwA2",
        "outputId": "598f55e0-2845-4e5a-a987-f43a234dcb43"
      },
      "execution_count": 13,
      "outputs": [
        {
          "output_type": "execute_result",
          "data": {
            "text/plain": [
              "count    14640.000000\n",
              "mean        16.881831\n",
              "std          7.162187\n",
              "min          1.000000\n",
              "25%         11.000000\n",
              "50%         18.000000\n",
              "75%         23.000000\n",
              "max         37.000000\n",
              "Name: text, dtype: float64"
            ]
          },
          "metadata": {},
          "execution_count": 13
        }
      ]
    },
    {
      "cell_type": "markdown",
      "source": [
        "Kita filter dataset supaya cuma menggunakan data yang paling tidak ada 3 kata dalam satu kalimat."
      ],
      "metadata": {
        "id": "6AqlqNdVNOLh"
      }
    },
    {
      "cell_type": "code",
      "source": [
        "df = df[word_count > 3]\n",
        "df.shape"
      ],
      "metadata": {
        "colab": {
          "base_uri": "https://localhost:8080/"
        },
        "id": "8F8bU0r0NYWY",
        "outputId": "466f3086-b70f-443d-f825-e5b81146cf2b"
      },
      "execution_count": 14,
      "outputs": [
        {
          "output_type": "execute_result",
          "data": {
            "text/plain": [
              "(14094, 2)"
            ]
          },
          "metadata": {},
          "execution_count": 14
        }
      ]
    },
    {
      "cell_type": "markdown",
      "source": [
        "### Split Train dan Validation data"
      ],
      "metadata": {
        "id": "gP9m8bTFNpPv"
      }
    },
    {
      "cell_type": "code",
      "source": [
        "X = df['text']\n",
        "y = pd.get_dummies(df['airline_sentiment'])\n",
        "\n",
        "X_train, X_test, y_train, y_test = train_test_split(X, y, test_size=0.2, random_state=1)"
      ],
      "metadata": {
        "id": "mv30Am0bNo0H"
      },
      "execution_count": 15,
      "outputs": []
    },
    {
      "cell_type": "markdown",
      "source": [
        "### Text preprocessing lanjutan\n",
        "\n",
        "Dapatkan jumlah vocabulary (jumlah kata-kata yang berbdea) di data train. Ini nanti digunakan di input data"
      ],
      "metadata": {
        "id": "gJzqh2FcQYpw"
      }
    },
    {
      "cell_type": "code",
      "source": [
        "text_review = ''\n",
        "for i in range(len(X_train)):\n",
        "    text_review = text_review + X_train.iloc[i]\n",
        "\n",
        "len(set(text_review.split()))"
      ],
      "metadata": {
        "colab": {
          "base_uri": "https://localhost:8080/"
        },
        "id": "wL0CljjqQXwU",
        "outputId": "b6849ae8-4813-47b1-d732-52d11898122e"
      },
      "execution_count": 16,
      "outputs": [
        {
          "output_type": "execute_result",
          "data": {
            "text/plain": [
              "15987"
            ]
          },
          "metadata": {},
          "execution_count": 16
        }
      ]
    },
    {
      "cell_type": "markdown",
      "source": [
        "### Tokenization"
      ],
      "metadata": {
        "id": "fAPGtE5KQ-wZ"
      }
    },
    {
      "cell_type": "code",
      "source": [
        "NUM_WORDS = 15000\n",
        "\n",
        "tokenizer = Tokenizer(num_words=NUM_WORDS, split=' ')\n",
        "tokenizer.fit_on_texts(X_train)"
      ],
      "metadata": {
        "id": "I6TUON3jRBrv"
      },
      "execution_count": 17,
      "outputs": []
    },
    {
      "cell_type": "code",
      "source": [
        "x_train_token = tokenizer.texts_to_sequences(X_train)\n",
        "x_test_token = tokenizer.texts_to_sequences(X_test)"
      ],
      "metadata": {
        "id": "xqaRVNuvRduG"
      },
      "execution_count": 18,
      "outputs": []
    },
    {
      "cell_type": "code",
      "source": [
        "MAXLEN = 250\n",
        "\n",
        "x_train_padding = pad_sequences(x_train_token, maxlen=MAXLEN, padding='pre', truncating='post')\n",
        "x_test_padding = pad_sequences(x_test_token, maxlen=MAXLEN, padding='pre', truncating='post')"
      ],
      "metadata": {
        "id": "efCIcD3URt74"
      },
      "execution_count": 19,
      "outputs": []
    },
    {
      "cell_type": "markdown",
      "source": [
        "## Membangun Arsitektur Model"
      ],
      "metadata": {
        "id": "eyqJc4TRSD76"
      }
    },
    {
      "cell_type": "code",
      "source": [
        "model = Sequential([\n",
        "    Embedding(input_dim=NUM_WORDS, input_length=MAXLEN, output_dim=16),\n",
        "    tf.keras.layers.Bidirectional(LSTM(64, return_sequences=True)),\n",
        "    tf.keras.layers.Bidirectional(LSTM(32)),\n",
        "    Dense(16, activation='relu'),\n",
        "    tf.keras.layers.Dropout(0.2),\n",
        "    Dense(3, activation='softmax')\n",
        "])\n",
        "\n",
        "model.summary()"
      ],
      "metadata": {
        "colab": {
          "base_uri": "https://localhost:8080/"
        },
        "id": "xtAi98MySNzq",
        "outputId": "59cb50b9-2c1a-4303-fbea-0902187b4dfb"
      },
      "execution_count": 41,
      "outputs": [
        {
          "output_type": "stream",
          "name": "stdout",
          "text": [
            "Model: \"sequential_6\"\n",
            "_________________________________________________________________\n",
            " Layer (type)                Output Shape              Param #   \n",
            "=================================================================\n",
            " embedding_6 (Embedding)     (None, 250, 16)           240000    \n",
            "                                                                 \n",
            " bidirectional_5 (Bidirectio  (None, 250, 128)         41472     \n",
            " nal)                                                            \n",
            "                                                                 \n",
            " bidirectional_6 (Bidirectio  (None, 64)               41216     \n",
            " nal)                                                            \n",
            "                                                                 \n",
            " dense_12 (Dense)            (None, 16)                1040      \n",
            "                                                                 \n",
            " dropout_1 (Dropout)         (None, 16)                0         \n",
            "                                                                 \n",
            " dense_13 (Dense)            (None, 3)                 51        \n",
            "                                                                 \n",
            "=================================================================\n",
            "Total params: 323,779\n",
            "Trainable params: 323,779\n",
            "Non-trainable params: 0\n",
            "_________________________________________________________________\n"
          ]
        }
      ]
    },
    {
      "cell_type": "code",
      "source": [
        "class MyCallback(tf.keras.callbacks.Callback):\n",
        "  def on_epoch_end(self, epoch, logs={}):\n",
        "    if(logs.get('val_accuracy')>0.9):\n",
        "      print(\"\\nAkurasi validasi telah mencapai >90%!\")\n",
        "      self.model.stop_training = True\n",
        "callbacks = MyCallback()"
      ],
      "metadata": {
        "id": "69ooms43TQT0"
      },
      "execution_count": 21,
      "outputs": []
    },
    {
      "cell_type": "code",
      "source": [
        "early_stopping = tf.keras.callbacks.EarlyStopping(\n",
        "    monitor='val_accuracy', \n",
        "    verbose=1,\n",
        "    patience=10,\n",
        "    mode='max',\n",
        "    restore_best_weights=True)"
      ],
      "metadata": {
        "id": "rOqrxM3uW8wi"
      },
      "execution_count": 30,
      "outputs": []
    },
    {
      "cell_type": "markdown",
      "source": [
        "### Melatih Model"
      ],
      "metadata": {
        "id": "bQLhe3n3SxQl"
      }
    },
    {
      "cell_type": "code",
      "source": [
        "model.compile(optimizer=tf.keras.optimizers.Adam(learning_rate=0.001),\n",
        "              loss='categorical_crossentropy',\n",
        "              metrics=['accuracy'])"
      ],
      "metadata": {
        "id": "NBl6Oz40Szio"
      },
      "execution_count": 42,
      "outputs": []
    },
    {
      "cell_type": "code",
      "source": [
        "EPOCHS = 100\n",
        "BATCH_SIZE = 32\n",
        "\n",
        "history = model.fit(x_train_padding,\n",
        "                    y_train,\n",
        "                    epochs=EPOCHS,\n",
        "                    batch_size=BATCH_SIZE,\n",
        "                    validation_data=(x_test_padding, y_test),\n",
        "                    verbose=2,\n",
        "                    callbacks=[callbacks, early_stopping])"
      ],
      "metadata": {
        "colab": {
          "base_uri": "https://localhost:8080/"
        },
        "id": "y1XvwsdrTZv-",
        "outputId": "ea4746ce-5632-4bb0-9b49-ffbb7c5eca81"
      },
      "execution_count": 43,
      "outputs": [
        {
          "output_type": "stream",
          "name": "stdout",
          "text": [
            "Epoch 1/100\n",
            "353/353 - 21s - loss: 0.7208 - accuracy: 0.7035 - val_loss: 0.5587 - val_accuracy: 0.7868 - 21s/epoch - 58ms/step\n",
            "Epoch 2/100\n",
            "353/353 - 13s - loss: 0.4681 - accuracy: 0.8245 - val_loss: 0.5216 - val_accuracy: 0.7992 - 13s/epoch - 38ms/step\n",
            "Epoch 3/100\n",
            "353/353 - 12s - loss: 0.3614 - accuracy: 0.8710 - val_loss: 0.5423 - val_accuracy: 0.7843 - 12s/epoch - 35ms/step\n",
            "Epoch 4/100\n",
            "353/353 - 12s - loss: 0.2899 - accuracy: 0.9028 - val_loss: 0.5733 - val_accuracy: 0.7857 - 12s/epoch - 35ms/step\n",
            "Epoch 5/100\n",
            "353/353 - 12s - loss: 0.2434 - accuracy: 0.9175 - val_loss: 0.6403 - val_accuracy: 0.7868 - 12s/epoch - 35ms/step\n",
            "Epoch 6/100\n",
            "353/353 - 13s - loss: 0.2026 - accuracy: 0.9323 - val_loss: 0.6798 - val_accuracy: 0.7896 - 13s/epoch - 36ms/step\n",
            "Epoch 7/100\n",
            "353/353 - 13s - loss: 0.1779 - accuracy: 0.9412 - val_loss: 0.7436 - val_accuracy: 0.7708 - 13s/epoch - 37ms/step\n",
            "Epoch 8/100\n",
            "353/353 - 12s - loss: 0.1508 - accuracy: 0.9511 - val_loss: 0.8622 - val_accuracy: 0.7744 - 12s/epoch - 35ms/step\n",
            "Epoch 9/100\n",
            "353/353 - 12s - loss: 0.1415 - accuracy: 0.9554 - val_loss: 0.8275 - val_accuracy: 0.7786 - 12s/epoch - 35ms/step\n",
            "Epoch 10/100\n",
            "353/353 - 12s - loss: 0.1315 - accuracy: 0.9586 - val_loss: 0.9525 - val_accuracy: 0.7712 - 12s/epoch - 35ms/step\n",
            "Epoch 11/100\n",
            "353/353 - 12s - loss: 0.1164 - accuracy: 0.9648 - val_loss: 0.9267 - val_accuracy: 0.7680 - 12s/epoch - 35ms/step\n",
            "Epoch 12/100\n",
            "Restoring model weights from the end of the best epoch: 2.\n",
            "353/353 - 12s - loss: 0.1047 - accuracy: 0.9675 - val_loss: 0.9797 - val_accuracy: 0.7666 - 12s/epoch - 35ms/step\n",
            "Epoch 12: early stopping\n"
          ]
        }
      ]
    },
    {
      "cell_type": "markdown",
      "source": [
        "## Evaluasi Model"
      ],
      "metadata": {
        "id": "0Ebg2GsBWKWw"
      }
    },
    {
      "cell_type": "markdown",
      "source": [
        "### Accuracy and loss graphs"
      ],
      "metadata": {
        "id": "YqDZZ1x1cVgr"
      }
    },
    {
      "cell_type": "code",
      "source": [
        "def plot_graphs(history, string):\n",
        "    plt.plot(history.history[string])\n",
        "    plt.plot(history.history['val_'+string])\n",
        "    plt.xlabel(\"Epochs\")\n",
        "    plt.ylabel(string)\n",
        "    plt.legend([string, 'val_'+string])\n",
        "    plt.show()"
      ],
      "metadata": {
        "id": "zM_aCm-NWMVD"
      },
      "execution_count": 39,
      "outputs": []
    },
    {
      "cell_type": "code",
      "source": [
        "plot_graphs(history, 'accuracy')\n",
        "plot_graphs(history, 'loss')"
      ],
      "metadata": {
        "colab": {
          "base_uri": "https://localhost:8080/",
          "height": 1000
        },
        "id": "Q0EYEwPDYvTm",
        "outputId": "155e4a56-c029-4072-a734-5ded33544b84"
      },
      "execution_count": 45,
      "outputs": [
        {
          "output_type": "display_data",
          "data": {
            "text/plain": [
              "<Figure size 864x720 with 1 Axes>"
            ],
            "image/png": "[encoded data removed]"
          },
          "metadata": {
            "needs_background": "light"
          }
        },
        {
          "output_type": "display_data",
          "data": {
            "text/plain": [
              "<Figure size 864x720 with 1 Axes>"
            ],
            "image/png": "[encoded data removed]"
          },
          "metadata": {
            "needs_background": "light"
          }
        }
      ]
    }
  ]
}